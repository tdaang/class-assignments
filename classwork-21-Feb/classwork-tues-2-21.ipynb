{
 "cells": [
  {
   "cell_type": "markdown",
   "metadata": {},
   "source": [
    "## guided exploration\n",
    "1. each row in the cocoli.txt represents a different species and the information associated with each species.\n",
    "2. the rows in cocolisp.txt lists the species, genus, and species code\n",
    "3. the multi2 column shows how many stems the plant has at 1.3m at the second census date\n",
    "4. the dbh2 column shows the diameter of the biggest stem at breast height at the second census\n",
    "5. we can find the genus and species name of this record by looking at the spcode\n",
    "6. The genus and species name is calycophyllum candidissimum\n",
    "7. individual 000001 kept growing but individual 000029 died\n"
   ]
  },
  {
   "cell_type": "markdown",
   "metadata": {},
   "source": [
    "## interesting questions\n",
    "\n",
    "We could track the species growth trends over time \n",
    "Look at which species are growing and dying to see which one can thrive in the environment"
   ]
  },
  {
   "cell_type": "markdown",
   "metadata": {},
   "source": [
    "## more guided exploration\n",
    "\n",
    "127 genera, 99 of which only have one species represented\n",
    "```\n",
    "eeb177-student@eeb177-VirtualBox:~/Desktop/eeb-177/class-assignments/classwork-21-Feb$ sed 's/\\s/,/g' cocolisp.txt |cut -d \",\" -f 2 |sort|uniq -c|sort -n|grep -w \"1\" |wc -l\n",
    "99\n",
    "```"
   ]
  },
  {
   "cell_type": "markdown",
   "metadata": {},
   "source": [
    "## pseudocode\n",
    "the key would be the individual and the values for each of the individual would be the RGR (as calculated by the formula)\n",
    "We could then sort the keys in reverse numerical order\n",
    "then we could look at the first entry in the dictionary\n"
   ]
  },
  {
   "cell_type": "code",
   "execution_count": null,
   "metadata": {
    "collapsed": true
   },
   "outputs": [],
   "source": []
  }
 ],
 "metadata": {
  "kernelspec": {
   "display_name": "Python [conda root]",
   "language": "python",
   "name": "conda-root-py"
  },
  "language_info": {
   "codemirror_mode": {
    "name": "ipython",
    "version": 3
   },
   "file_extension": ".py",
   "mimetype": "text/x-python",
   "name": "python",
   "nbconvert_exporter": "python",
   "pygments_lexer": "ipython3",
   "version": "3.5.2"
  }
 },
 "nbformat": 4,
 "nbformat_minor": 2
}
