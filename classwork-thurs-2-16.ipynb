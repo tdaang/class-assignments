{
 "cells": [
  {
   "cell_type": "code",
   "execution_count": 1,
   "metadata": {
    "collapsed": true
   },
   "outputs": [],
   "source": [
    "nature_birds = {} \n",
    "ff = open(\"/home/eeb177-student/Desktop/eeb-177/hw/formattednature.csv\", \"r\", encoding = \"ISO-8859-15\")\n",
    "ss = ff.readlines() [1:]\n",
    "\n",
    "for line in ss:\n",
    "    sp = line.split(\",\")[0]\n",
    "    fam = line.split(\",\")[2]\n",
    "    nature_birds[sp] = fam\n",
    "    \n",
    "ff.close()"
   ]
  },
  {
   "cell_type": "code",
   "execution_count": 19,
   "metadata": {
    "collapsed": false
   },
   "outputs": [],
   "source": [
    "def makebirddict(filename):\n",
    "    #this function opens the data file from nature and extracts the species and family as a dictionary\n",
    "    birddict = {}\n",
    "    #split lines on comma\n",
    "    #stick species and family into birddict\n",
    "    fobj = open(filename, \"r\", encoding = \"ISO-8859-15\")\n",
    "    allrecords = fobj.readlines()[2:] ## dont want the header in first row\n",
    "    for line in allrecords:\n",
    "        ##all records is a list and the elements are the lines of the file. \n",
    "        record_elements = line.split(\",\")\n",
    "            ## produces another list. since csv ordered split\n",
    "        species = record_elements[0]\n",
    "        family = record_elements[2]\n",
    "        birddict[species] = family\n",
    "        \n",
    "    \n",
    "    return birddict"
   ]
  },
  {
   "cell_type": "code",
   "execution_count": 8,
   "metadata": {
    "collapsed": false
   },
   "outputs": [],
   "source": [
    "#makebirddict(\"/home/eeb177-student/Desktop/eeb-177/hw/formattednature.csv\")"
   ]
  },
  {
   "cell_type": "code",
   "execution_count": 23,
   "metadata": {
    "collapsed": false
   },
   "outputs": [
    {
     "name": "stdout",
     "output_type": "stream",
     "text": [
      "family of Abeillia_abeillei is Trochilidae\n"
     ]
    }
   ],
   "source": [
    "nature = makebirddict(\"/home/eeb177-student/Desktop/eeb-177/hw/formattednature.csv\")\n",
    "species = list(nature.keys())\n",
    "species.sort()\n",
    "first_species = species[0]\n",
    "first_fam = nature[first_species]\n",
    "\n",
    "#internally sorts the elements of the list\n",
    "#species[0]\n",
    "\n",
    "print(\"family of \" +species[0] + \" is \" + nature[species[0]])\n"
   ]
  },
  {
   "cell_type": "code",
   "execution_count": 16,
   "metadata": {
    "collapsed": false
   },
   "outputs": [
    {
     "data": {
      "text/plain": [
       "[2, 3, 5, 6]"
      ]
     },
     "execution_count": 16,
     "metadata": {},
     "output_type": "execute_result"
    }
   ],
   "source": [
    "temp = [3,5,6,2]\n",
    "temp.sort()\n",
    "temp"
   ]
  },
  {
   "cell_type": "code",
   "execution_count": 28,
   "metadata": {
    "collapsed": false
   },
   "outputs": [],
   "source": [
    "for species in nature.keys():\n",
    "    #get the family of the species\n",
    "    fam = nature[species]\n",
    "    #print(species,fam)"
   ]
  },
  {
   "cell_type": "code",
   "execution_count": 29,
   "metadata": {
    "collapsed": false
   },
   "outputs": [
    {
     "ename": "SyntaxError",
     "evalue": "unexpected EOF while parsing (<ipython-input-29-e1216ed828e0>, line 2)",
     "output_type": "error",
     "traceback": [
      "\u001b[0;36m  File \u001b[0;32m\"<ipython-input-29-e1216ed828e0>\"\u001b[0;36m, line \u001b[0;32m2\u001b[0m\n\u001b[0;31m    #print(item)\u001b[0m\n\u001b[0m                ^\u001b[0m\n\u001b[0;31mSyntaxError\u001b[0m\u001b[0;31m:\u001b[0m unexpected EOF while parsing\n"
     ]
    }
   ],
   "source": [
    "for item in nature:\n",
    "    #print(item)"
   ]
  },
  {
   "cell_type": "code",
   "execution_count": 31,
   "metadata": {
    "collapsed": false
   },
   "outputs": [
    {
     "ename": "SyntaxError",
     "evalue": "unexpected EOF while parsing (<ipython-input-31-3975177dc730>, line 2)",
     "output_type": "error",
     "traceback": [
      "\u001b[0;36m  File \u001b[0;32m\"<ipython-input-31-3975177dc730>\"\u001b[0;36m, line \u001b[0;32m2\u001b[0m\n\u001b[0;31m    #print(pair)\u001b[0m\n\u001b[0m                ^\u001b[0m\n\u001b[0;31mSyntaxError\u001b[0m\u001b[0;31m:\u001b[0m unexpected EOF while parsing\n"
     ]
    }
   ],
   "source": [
    "for pair in nature.items():\n",
    "    #print(pair)"
   ]
  },
  {
   "cell_type": "code",
   "execution_count": 33,
   "metadata": {
    "collapsed": false
   },
   "outputs": [],
   "source": [
    "def outoforder(number, pet):\n",
    "    print (\"I own {} {}s\".format(number, pet))\n",
    "    "
   ]
  },
  {
   "cell_type": "code",
   "execution_count": 34,
   "metadata": {
    "collapsed": false
   },
   "outputs": [
    {
     "name": "stdout",
     "output_type": "stream",
     "text": [
      "I own 3 dogs\n"
     ]
    }
   ],
   "source": [
    "outoforder(3, \"dog\")"
   ]
  },
  {
   "cell_type": "code",
   "execution_count": 35,
   "metadata": {
    "collapsed": false
   },
   "outputs": [
    {
     "name": "stdout",
     "output_type": "stream",
     "text": [
      "I own 3 dogs\n"
     ]
    }
   ],
   "source": [
    "outoforder(pet = \"dog\", number = 3)"
   ]
  },
  {
   "cell_type": "code",
   "execution_count": 36,
   "metadata": {
    "collapsed": true
   },
   "outputs": [],
   "source": [
    "seq = \"ATTCGTCAC\"\n",
    "def get_at_content(dna, sigfigs = 2):\n",
    "    length = len(dna)\n",
    "    a_count= dna.upper().count('A')\n",
    "    t_count= dna.upper().count('T')\n",
    "    at_content = (a_count + t_count) / length\n",
    "    return(round(at_content, sigfigs))"
   ]
  },
  {
   "cell_type": "code",
   "execution_count": 38,
   "metadata": {
    "collapsed": false
   },
   "outputs": [
    {
     "data": {
      "text/plain": [
       "0.56"
      ]
     },
     "execution_count": 38,
     "metadata": {},
     "output_type": "execute_result"
    }
   ],
   "source": [
    "get_at_content(sigfigs=2, dna = seq)"
   ]
  },
  {
   "cell_type": "code",
   "execution_count": null,
   "metadata": {
    "collapsed": true
   },
   "outputs": [],
   "source": []
  }
 ],
 "metadata": {
  "anaconda-cloud": {},
  "kernelspec": {
   "display_name": "Python [conda root]",
   "language": "python",
   "name": "conda-root-py"
  },
  "language_info": {
   "codemirror_mode": {
    "name": "ipython",
    "version": 3
   },
   "file_extension": ".py",
   "mimetype": "text/x-python",
   "name": "python",
   "nbconvert_exporter": "python",
   "pygments_lexer": "ipython3",
   "version": "3.5.2"
  }
 },
 "nbformat": 4,
 "nbformat_minor": 2
}
