{
 "cells": [
  {
   "cell_type": "markdown",
   "metadata": {},
   "source": [
    "# Lightning talk schedule\n",
    "09:30 Kelsey Jiang\n",
    "09:34 Dominique Castro\n",
    "09:38 Linna Sun\n",
    "09:42 Ashen Parikh\n",
    "09:46 Matthew Muia\n",
    "09:50 Antonella Gonzalez\n",
    "09:54 Yee Chau\n",
    "09:58 Kristen Lee\n",
    "10:02 Madison Downing\n",
    "10:06 Youstina Salama\n",
    "10:10 Jeremy Wadowski\n",
    "10:14 Mehdi Nojoumi\n",
    "10:18 Junghoon Kim\n",
    "10:22 Dustin Wong\n",
    "10:26 Hyein Kil"
   ]
  },
  {
   "cell_type": "markdown",
   "metadata": {},
   "source": [
    "### Kelsey Jiang\n",
    "\n",
    "1. Have you found that recently, the speciation and extinction rates represent the mass extinction periods even with the various conservation attempts?"
   ]
  },
  {
   "cell_type": "markdown",
   "metadata": {},
   "source": [
    "### Dominique Castro\n",
    "1. What was the difference when you changed the last three numbers from 100 to 700? Was there a particular reason these species weren't displayed from the beginning?\n"
   ]
  },
  {
   "cell_type": "markdown",
   "metadata": {},
   "source": [
    "### Linna Sun\n",
    "1. Did you find any biological or environmental changes that correlated with the decrease in diversity?"
   ]
  },
  {
   "cell_type": "markdown",
   "metadata": {},
   "source": [
    "### Ashen Parikh\n",
    "1. Do you have any hypotheses regarding the shorter decision times made by participants from the United States?"
   ]
  },
  {
   "cell_type": "markdown",
   "metadata": {},
   "source": [
    "### Matthew Mula\n",
    "1. what is a bootstrapping test and why do you have to do both a t-test and bootstrapping?"
   ]
  },
  {
   "cell_type": "markdown",
   "metadata": {},
   "source": [
    "### Antonella Gonzalez\n",
    "1. Did you look into the environment of the areas where alligators existed and are they uniform across the different countries or did they slowly evolve to adapt to the environment?"
   ]
  },
  {
   "cell_type": "markdown",
   "metadata": {},
   "source": [
    "### Yee Chau\n",
    "1. Did you find environmental correlations between those mass exticntion periods and the environment?"
   ]
  },
  {
   "cell_type": "markdown",
   "metadata": {},
   "source": [
    "### Kristen Lee\n",
    "1. Do you know what motivated the geographic range change/expansion?\n"
   ]
  },
  {
   "cell_type": "markdown",
   "metadata": {},
   "source": [
    "### Madison Downing\n",
    "1. Did you find that the data was skewed due to the high presence of mammals compared to birds?"
   ]
  },
  {
   "cell_type": "markdown",
   "metadata": {},
   "source": [
    "### Youstina Salama\n",
    "1. What was the most interesting finding form the graph?"
   ]
  },
  {
   "cell_type": "markdown",
   "metadata": {},
   "source": [
    "### Jeremy Wadowski\n",
    "1. were most people below their VO2 max rate?"
   ]
  },
  {
   "cell_type": "markdown",
   "metadata": {},
   "source": [
    "### Mehdi Nojoumi\n",
    "1. What makes the data so heavily skewed with missing orders and is there any way to decrease the sensitivity of this?"
   ]
  },
  {
   "cell_type": "markdown",
   "metadata": {},
   "source": [
    "### Junghoon Kim\n",
    "1. What were your findings from these graphs?"
   ]
  },
  {
   "cell_type": "markdown",
   "metadata": {},
   "source": [
    "### Dustin Wong\n",
    "1. What explains the high speciation within the small time period?"
   ]
  },
  {
   "cell_type": "markdown",
   "metadata": {},
   "source": [
    "### Hyein Kil\n",
    "1. After diverging from the Asian birds, did you see any changes in the American birds that allowed them to live in a different area?"
   ]
  },
  {
   "cell_type": "code",
   "execution_count": null,
   "metadata": {
    "collapsed": true
   },
   "outputs": [],
   "source": []
  }
 ],
 "metadata": {
  "anaconda-cloud": {},
  "kernelspec": {
   "display_name": "Python [conda root]",
   "language": "python",
   "name": "conda-root-py"
  },
  "language_info": {
   "codemirror_mode": {
    "name": "ipython",
    "version": 3
   },
   "file_extension": ".py",
   "mimetype": "text/x-python",
   "name": "python",
   "nbconvert_exporter": "python",
   "pygments_lexer": "ipython3",
   "version": "3.5.2"
  }
 },
 "nbformat": 4,
 "nbformat_minor": 2
}
