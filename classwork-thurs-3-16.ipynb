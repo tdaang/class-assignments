{
 "cells": [
  {
   "cell_type": "markdown",
   "metadata": {},
   "source": [
    "09:30 Aditya Kantawala\n",
    "09:34 Justin Shieh\n",
    "09:38 Sarah Kim\n",
    "09:42 Christina Zhou\n",
    "09:46 Gayane Hovsepyan\n",
    "09:50 Roxana Nojoumi\n",
    "09:54 Cooper Kass\n",
    "09:58 Jeffrey Lee\n",
    "10:02 Laura Trejo\n",
    "10:06 Jin Kim\n",
    "10:10 Marina Salama\n",
    "10:14 Erin Solis\n",
    "10:18 Sean Mathew\n",
    "10:22 Tiffany Dang"
   ]
  },
  {
   "cell_type": "markdown",
   "metadata": {},
   "source": [
    "### Aditya Kantawala\n",
    "1. how will you account for the continental drift that impacted the dinosaurs?"
   ]
  },
  {
   "cell_type": "markdown",
   "metadata": {},
   "source": [
    "### Justin Shieh\n",
    "1. What do you think accounted for the large peak 10 million years ago?"
   ]
  },
  {
   "cell_type": "markdown",
   "metadata": {},
   "source": [
    "### Sarah Kim\n",
    "1. What differences between recent times and the past allow for the large amdount of extant species today?"
   ]
  },
  {
   "cell_type": "markdown",
   "metadata": {},
   "source": [
    "### Christina Zhou\n",
    "1. What do you think accounts for the large difference in the chart shown in the pbdb data and the one shown online?"
   ]
  },
  {
   "cell_type": "markdown",
   "metadata": {},
   "source": [
    "### Gayane Hovsepyan\n",
    "1. From your data, do you see ways to improve treatment toward autistic children"
   ]
  },
  {
   "cell_type": "markdown",
   "metadata": {},
   "source": [
    "### Roxana Nojoumi \n",
    "1. What connection do you expect to see?"
   ]
  },
  {
   "cell_type": "markdown",
   "metadata": {},
   "source": [
    "### Cooper Kass \n",
    "1. What do you think allows for the speciation despite the decreasing biodiversity?"
   ]
  },
  {
   "cell_type": "markdown",
   "metadata": {},
   "source": [
    "### Jeffrey Lee\n",
    "1. What evidence did you find about the speciation compared to the one extant subfamily?  "
   ]
  },
  {
   "cell_type": "markdown",
   "metadata": {},
   "source": [
    "### Laura Trejo\n",
    "1. How were they led to the tropical area and why do you think they settled there?"
   ]
  },
  {
   "cell_type": "markdown",
   "metadata": {},
   "source": [
    "### Jin Kim\n",
    "1. why did you choose the species with the longest ranges?"
   ]
  },
  {
   "cell_type": "markdown",
   "metadata": {},
   "source": [
    "### Marina Salama\n",
    "1. What conclusions were you able to draw from the data in your graphs? "
   ]
  },
  {
   "cell_type": "markdown",
   "metadata": {},
   "source": [
    "### Erin Solis\n",
    "1. What is the longevity of the species and why is there constant rates of speciation but decreasing diversity and increasing extinction?"
   ]
  },
  {
   "cell_type": "markdown",
   "metadata": {},
   "source": [
    "### Sean Mathew\n",
    "1. What do you think led to the sharp increase in extinction?"
   ]
  },
  {
   "cell_type": "markdown",
   "metadata": {},
   "source": [
    "### Tiffany Dang\n",
    "my presentation!"
   ]
  },
  {
   "cell_type": "code",
   "execution_count": null,
   "metadata": {
    "collapsed": true
   },
   "outputs": [],
   "source": []
  }
 ],
 "metadata": {
  "anaconda-cloud": {},
  "kernelspec": {
   "display_name": "Python [conda root]",
   "language": "python",
   "name": "conda-root-py"
  },
  "language_info": {
   "codemirror_mode": {
    "name": "ipython",
    "version": 3
   },
   "file_extension": ".py",
   "mimetype": "text/x-python",
   "name": "python",
   "nbconvert_exporter": "python",
   "pygments_lexer": "ipython3",
   "version": "3.5.2"
  }
 },
 "nbformat": 4,
 "nbformat_minor": 2
}
