{
 "cells": [
  {
   "cell_type": "code",
   "execution_count": 31,
   "metadata": {
    "collapsed": false
   },
   "outputs": [],
   "source": [
    "infile = \"clean_canid.csv\"\n",
    "with open(infile, 'r') as ff:\n",
    "    canid_recs = ff.readlines()[1:]\n",
    "    "
   ]
  },
  {
   "cell_type": "code",
   "execution_count": 32,
   "metadata": {
    "collapsed": false
   },
   "outputs": [],
   "source": [
    "#canid_recs"
   ]
  },
  {
   "cell_type": "code",
   "execution_count": 33,
   "metadata": {
    "collapsed": false
   },
   "outputs": [],
   "source": [
    "#use default dict\n",
    "from collections import defaultdict\n",
    "\n",
    "species_ranges = defaultdict(list)\n",
    "#if the key isnt thee, itll auto make a new oen but if it is there, then itll jsut append it. dont have to worry abou tmkaing new keys\n",
    "\n",
    "\n",
    "for line in canid_recs:\n",
    "    species = line.split(\",\")[5][1:-1]\n",
    "    minage = float(line.split('\",\"')[10])\n",
    "    maxage = float(line.split('\",\"')[11])\n",
    "    mean_age = (minage + maxage)/2\n",
    "    \n",
    "    #add species as keys and mean ages as elements to the list of ages\n",
    "    species_ranges[species].append(mean_age)\n",
    "    #print(mean_age)"
   ]
  },
  {
   "cell_type": "code",
   "execution_count": 34,
   "metadata": {
    "collapsed": false
   },
   "outputs": [],
   "source": [
    "#species_ranges.keys()"
   ]
  },
  {
   "cell_type": "code",
   "execution_count": 37,
   "metadata": {
    "collapsed": false
   },
   "outputs": [],
   "source": [
    "# get the oldest and youngesst ages of fossils for each secies in species_ranges\n",
    "output = open(\"canid-ranges.csv\", \"w\")\n",
    "for key in species_ranges.keys():\n",
    "    ages = species_ranges[key]\n",
    "    minage = min(ages)\n",
    "    maxage = max(ages)\n",
    "    genus = key.split(\" \")[0]\n",
    "    species = key\n",
    "    #print(genus, key, minage, maxage)\n",
    "    outline = \"{},{},{},{}\\n\".format(genus, species, minage, maxage)\n",
    "    output.write(outline)\n",
    "    "
   ]
  },
  {
   "cell_type": "code",
   "execution_count": null,
   "metadata": {
    "collapsed": true
   },
   "outputs": [],
   "source": []
  }
 ],
 "metadata": {
  "anaconda-cloud": {},
  "kernelspec": {
   "display_name": "Python [conda root]",
   "language": "python",
   "name": "conda-root-py"
  },
  "language_info": {
   "codemirror_mode": {
    "name": "ipython",
    "version": 3
   },
   "file_extension": ".py",
   "mimetype": "text/x-python",
   "name": "python",
   "nbconvert_exporter": "python",
   "pygments_lexer": "ipython3",
   "version": "3.5.2"
  }
 },
 "nbformat": 4,
 "nbformat_minor": 2
}
